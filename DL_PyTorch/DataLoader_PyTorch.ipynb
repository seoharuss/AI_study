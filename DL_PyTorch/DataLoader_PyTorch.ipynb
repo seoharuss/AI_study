{
  "nbformat": 4,
  "nbformat_minor": 0,
  "metadata": {
    "colab": {
      "provenance": [],
      "authorship_tag": "ABX9TyPkCZiWuK0lq8rpRwQdDq2X",
      "include_colab_link": true
    },
    "kernelspec": {
      "name": "python3",
      "display_name": "Python 3"
    },
    "language_info": {
      "name": "python"
    }
  },
  "cells": [
    {
      "cell_type": "markdown",
      "metadata": {
        "id": "view-in-github",
        "colab_type": "text"
      },
      "source": [
        "<a href=\"https://colab.research.google.com/github/seoharuss/AI_study/blob/main/DataLoader_PyTorch.ipynb\" target=\"_parent\"><img src=\"https://colab.research.google.com/assets/colab-badge.svg\" alt=\"Open In Colab\"/></a>"
      ]
    },
    {
      "cell_type": "markdown",
      "source": [
        "## 데이터 로드하기(Data Load)\n",
        "\n",
        "파이토치에서는 데이터를 좀 더 쉽게 다룰 수 있도록 유용한 도구\n",
        "- 데이터셋\n",
        "- 데이터로더\n",
        "\n",
        "이를 사용하면 **미니 배치 학습**, 데이터 셔플, 병렬 처리까지 간단히 수행 가능\n",
        "\n",
        "기본적인 사용방법은 dataset을 정의하고, 이를 dataloader에 전달하는 것"
      ],
      "metadata": {
        "id": "YIRKNkfMANfG"
      }
    },
    {
      "cell_type": "code",
      "source": [
        "import torch\n",
        "import torch.nn as nn\n",
        "import torch.nn.functional as F\n",
        "\n",
        "# tensorDataset과 DataLoader를 import\n",
        "from torch.utils.data import TensorDataset # 텐서데이터셋\n",
        "from torch.utils.data import DataLoader # 데이터로더\n",
        "\n",
        "x_train  =  torch.FloatTensor([[73,  80,  75],\n",
        "                               [93,  88,  93],\n",
        "                               [89,  91,  90],\n",
        "                               [96,  98,  100],\n",
        "                               [73,  66,  70]])\n",
        "y_train  =  torch.FloatTensor([[152],  [185],  [180],  [196],  [142]])\n",
        "\n",
        "dataset = TensorDataset(x_train, y_train)"
      ],
      "metadata": {
        "id": "YIh5WMnbC7dM"
      },
      "execution_count": null,
      "outputs": []
    },
    {
      "cell_type": "markdown",
      "source": [
        "파이토치의 데이터셋을 만들었다면 데이터로더를 사용 가능하다.\n",
        "\n",
        "데이터로더는 기본적으로 2개의 인자를 입력받는다.\n",
        "- 1개는 데이터셋, 미니배치의 크기\n",
        "  - 이 때 미니 배치의 크기는 통상적으로 2의 배수를 사용\n",
        "- shuffle\n",
        "  - shuffle=True를 선택하면 Epoch마다 데이터셋을 섞어서 데이터가 학습되는 순서를 바꾼다.\n",
        "\n",
        "> 사람으로 비유\n",
        "사람도 같은 문제지를 계속 풀면 어느 순간 문제의 순서에 익숙해질 수 있다.\n",
        "예를 들어 어떤 문제지의 12번 문제를 풀면서, 13번 문제가 뭔지는 기억이 안나지만 어제 풀었던 기억으로 정답은 5번이였던 것 같은데, 하면서 문제 자체보단 순서에 익숙해질 수 있다는 것이다.\n",
        "그럴 때 문제지를 풀 때마다 문제 순서를 랜덤으로 바꾸면 도움이 된다.\n",
        "\n",
        "마찬가지로 모델이 데이터셋의 순서에 익숙해지는 것을 방지하여 학습할 때는 이 옵션을 True를 주는 것을 권장"
      ],
      "metadata": {
        "id": "SNRb_PSvJRJZ"
      }
    },
    {
      "cell_type": "code",
      "source": [
        "dataloader = DataLoader(dataset, batch_size=2, shuffle=True)"
      ],
      "metadata": {
        "id": "3dJ8XUoRLaEl"
      },
      "execution_count": null,
      "outputs": []
    },
    {
      "cell_type": "markdown",
      "source": [
        "이제 모델과 옵티마이저 설정"
      ],
      "metadata": {
        "id": "x5bo6sjZLg8l"
      }
    },
    {
      "cell_type": "code",
      "source": [
        "model = nn.Linear(3,1)\n",
        "optimizer = torch.optim.SGD(model.parameters(), lr=1e-5)"
      ],
      "metadata": {
        "id": "2gQyjMnZLizn"
      },
      "execution_count": null,
      "outputs": []
    },
    {
      "cell_type": "markdown",
      "source": [
        "훈련을 진행\n",
        "\n",
        "batch_idx와 samples를 주석처리했다.\n",
        "- 어떤 식으로 훈련되고 있는지 궁금하다면 주석 처리를 해제하고 훈련시키기를 추천"
      ],
      "metadata": {
        "id": "A8ZkGma6LsbS"
      }
    },
    {
      "cell_type": "code",
      "source": [
        "nb_epochs = 20\n",
        "for epoch in range(nb_epochs + 1):\n",
        "  for batch_idx, samples in enumerate(dataloader):\n",
        "    # print(batch_idx)\n",
        "    # print(samples)\n",
        "    x_train, y_train = samples\n",
        "\n",
        "    prediction = model(x_train)\n",
        "\n",
        "    cost = F.mse_loss(prediction, y_train)\n",
        "\n",
        "    optimizer.zero_grad()\n",
        "    cost.backward()\n",
        "    optimizer.step()\n",
        "\n",
        "    print('Epoch {:4d}/{} Batch {}/{} Cost: {:.6f}'.format(\n",
        "        epoch, nb_epochs, batch_idx+1, len(dataloader),\n",
        "        cost.item()\n",
        "        ))"
      ],
      "metadata": {
        "colab": {
          "base_uri": "https://localhost:8080/"
        },
        "id": "Si3hgoIILzzn",
        "outputId": "322e4b08-ad24-4585-f3a3-e05934b111b8"
      },
      "execution_count": null,
      "outputs": [
        {
          "output_type": "stream",
          "name": "stdout",
          "text": [
            "Epoch    0/20 Batch 1/3 Cost: 0.317422\n",
            "Epoch    0/20 Batch 2/3 Cost: 6.595792\n",
            "Epoch    0/20 Batch 3/3 Cost: 1.910862\n",
            "Epoch    1/20 Batch 1/3 Cost: 1.966341\n",
            "Epoch    1/20 Batch 2/3 Cost: 2.939692\n",
            "Epoch    1/20 Batch 3/3 Cost: 1.464375\n",
            "Epoch    2/20 Batch 1/3 Cost: 2.113513\n",
            "Epoch    2/20 Batch 2/3 Cost: 1.066051\n",
            "Epoch    2/20 Batch 3/3 Cost: 6.718360\n",
            "Epoch    3/20 Batch 1/3 Cost: 2.883324\n",
            "Epoch    3/20 Batch 2/3 Cost: 1.697973\n",
            "Epoch    3/20 Batch 3/3 Cost: 2.045054\n",
            "Epoch    4/20 Batch 1/3 Cost: 3.267419\n",
            "Epoch    4/20 Batch 2/3 Cost: 1.812342\n",
            "Epoch    4/20 Batch 3/3 Cost: 1.300503\n",
            "Epoch    5/20 Batch 1/3 Cost: 3.380405\n",
            "Epoch    5/20 Batch 2/3 Cost: 1.921927\n",
            "Epoch    5/20 Batch 3/3 Cost: 1.353550\n",
            "Epoch    6/20 Batch 1/3 Cost: 2.344679\n",
            "Epoch    6/20 Batch 2/3 Cost: 0.895626\n",
            "Epoch    6/20 Batch 3/3 Cost: 6.865973\n",
            "Epoch    7/20 Batch 1/3 Cost: 1.723011\n",
            "Epoch    7/20 Batch 2/3 Cost: 2.762575\n",
            "Epoch    7/20 Batch 3/3 Cost: 2.306101\n",
            "Epoch    8/20 Batch 1/3 Cost: 0.493308\n",
            "Epoch    8/20 Batch 2/3 Cost: 6.323258\n",
            "Epoch    8/20 Batch 3/3 Cost: 1.989401\n",
            "Epoch    9/20 Batch 1/3 Cost: 0.517706\n",
            "Epoch    9/20 Batch 2/3 Cost: 3.773099\n",
            "Epoch    9/20 Batch 3/3 Cost: 3.420998\n",
            "Epoch   10/20 Batch 1/3 Cost: 1.958550\n",
            "Epoch   10/20 Batch 2/3 Cost: 2.732293\n",
            "Epoch   10/20 Batch 3/3 Cost: 2.252427\n",
            "Epoch   11/20 Batch 1/3 Cost: 3.121884\n",
            "Epoch   11/20 Batch 2/3 Cost: 1.821576\n",
            "Epoch   11/20 Batch 3/3 Cost: 1.421486\n",
            "Epoch   12/20 Batch 1/3 Cost: 3.300168\n",
            "Epoch   12/20 Batch 2/3 Cost: 1.842454\n",
            "Epoch   12/20 Batch 3/3 Cost: 1.291228\n",
            "Epoch   13/20 Batch 1/3 Cost: 2.123577\n",
            "Epoch   13/20 Batch 2/3 Cost: 0.974787\n",
            "Epoch   13/20 Batch 3/3 Cost: 6.584405\n",
            "Epoch   14/20 Batch 1/3 Cost: 2.701951\n",
            "Epoch   14/20 Batch 2/3 Cost: 1.738486\n",
            "Epoch   14/20 Batch 3/3 Cost: 2.173483\n",
            "Epoch   15/20 Batch 1/3 Cost: 0.400981\n",
            "Epoch   15/20 Batch 2/3 Cost: 6.324440\n",
            "Epoch   15/20 Batch 3/3 Cost: 1.877221\n",
            "Epoch   16/20 Batch 1/3 Cost: 3.039453\n",
            "Epoch   16/20 Batch 2/3 Cost: 1.763758\n",
            "Epoch   16/20 Batch 3/3 Cost: 1.360233\n",
            "Epoch   17/20 Batch 1/3 Cost: 2.082543\n",
            "Epoch   17/20 Batch 2/3 Cost: 2.940157\n",
            "Epoch   17/20 Batch 3/3 Cost: 1.497240\n",
            "Epoch   18/20 Batch 1/3 Cost: 3.363556\n",
            "Epoch   18/20 Batch 2/3 Cost: 0.827719\n",
            "Epoch   18/20 Batch 3/3 Cost: 4.519452\n",
            "Epoch   19/20 Batch 1/3 Cost: 2.843353\n",
            "Epoch   19/20 Batch 2/3 Cost: 2.020620\n",
            "Epoch   19/20 Batch 3/3 Cost: 3.220540\n",
            "Epoch   20/20 Batch 1/3 Cost: 2.851552\n",
            "Epoch   20/20 Batch 2/3 Cost: 1.848690\n",
            "Epoch   20/20 Batch 3/3 Cost: 4.453519\n"
          ]
        }
      ]
    },
    {
      "cell_type": "markdown",
      "source": [
        "Cost의 값이 점차 작아진다.\n",
        "- epoch를 더 늘려서 훈련하면 cost값이 더 작아질 여지가 있다.\n",
        "\n",
        "모델의 입력으로 임의의 값을 넣어서 예측값을 확인하자 !"
      ],
      "metadata": {
        "id": "bETGH7XlM2AO"
      }
    },
    {
      "cell_type": "code",
      "source": [
        "new_var = torch.FloatTensor([[73, 80, 75]])\n",
        "\n",
        "pred_y = model(new_var)\n",
        "print(\"훈련 후 입력이 73, 80, 75일 때의 예측값 :\", pred_y)"
      ],
      "metadata": {
        "colab": {
          "base_uri": "https://localhost:8080/"
        },
        "id": "naNoJgxcM9VP",
        "outputId": "c292bd96-e0f8-4eae-b400-cbfbef2a20b2"
      },
      "execution_count": null,
      "outputs": [
        {
          "output_type": "stream",
          "name": "stdout",
          "text": [
            "훈련 후 입력이 73, 80, 75일 때의 예측값 : tensor([[153.7094]], grad_fn=<AddmmBackward0>)\n"
          ]
        }
      ]
    }
  ]
}
