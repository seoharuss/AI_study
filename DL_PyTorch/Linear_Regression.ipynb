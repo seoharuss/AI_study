{
  "nbformat": 4,
  "nbformat_minor": 0,
  "metadata": {
    "colab": {
      "provenance": [],
      "authorship_tag": "ABX9TyM9m05LRYRJSpGO77MNx8Zu",
      "include_colab_link": true
    },
    "kernelspec": {
      "name": "python3",
      "display_name": "Python 3"
    },
    "language_info": {
      "name": "python"
    }
  },
  "cells": [
    {
      "cell_type": "markdown",
      "metadata": {
        "id": "view-in-github",
        "colab_type": "text"
      },
      "source": [
        "<a href=\"https://colab.research.google.com/github/seoharuss/AI_study/blob/main/Linear_Regression.ipynb\" target=\"_parent\"><img src=\"https://colab.research.google.com/assets/colab-badge.svg\" alt=\"Open In Colab\"/></a>"
      ]
    },
    {
      "cell_type": "markdown",
      "source": [
        "### 1. 기본 세팅"
      ],
      "metadata": {
        "id": "PIUgZjKQ4LRc"
      }
    },
    {
      "cell_type": "code",
      "source": [
        "import torch\n",
        "import torch.nn as nn\n",
        "import torch.nn.functional as F\n",
        "import torch.optim as optim"
      ],
      "metadata": {
        "id": "WJmHSWHl1s4a"
      },
      "execution_count": null,
      "outputs": []
    },
    {
      "cell_type": "markdown",
      "source": [
        "### 2. 변수 선언"
      ],
      "metadata": {
        "id": "5PFywCKs1-Kh"
      }
    },
    {
      "cell_type": "code",
      "source": [
        "x_train = torch.FloatTensor([[1], [2], [3]])\n",
        "y_train = torch.FloatTensor([[2], [4], [6]])\n",
        "\n",
        "# x_train과 y_train의 크기 shape 출력\n",
        "print(x_train)\n",
        "print(x_train.shape)\n",
        "print(y_train)\n",
        "print(y_train.shape)"
      ],
      "metadata": {
        "colab": {
          "base_uri": "https://localhost:8080/"
        },
        "id": "qM-tFGt42BKs",
        "outputId": "e7ddf7e7-cc52-4074-dcaf-308b50effd4c"
      },
      "execution_count": null,
      "outputs": [
        {
          "output_type": "stream",
          "name": "stdout",
          "text": [
            "tensor([[1.],\n",
            "        [2.],\n",
            "        [3.]])\n",
            "torch.Size([3, 1])\n",
            "tensor([[2.],\n",
            "        [4.],\n",
            "        [6.]])\n",
            "torch.Size([3, 1])\n"
          ]
        }
      ]
    },
    {
      "cell_type": "markdown",
      "source": [
        "### 3. 가중치와 편향의 초기화\n",
        "\n",
        "선형 회귀는 학습 데이터와 가장 잘 맞는 하나의 직선을 찾는 일\n",
        "- 가장 잘 맞는 직선을 정의하는 것은 W와 b\n",
        "\n",
        "우선 가중치 w를 0으로 초기화하고, 이 값을 출력해보려 한다."
      ],
      "metadata": {
        "id": "OgI4-58f2-LG"
      }
    },
    {
      "cell_type": "code",
      "source": [
        "# 가중치 w를 0으로 초기화하고 학습을 통해 값이 변경되는 변수임을 명시\n",
        "W = torch.zeros(1, requires_grad=True)\n",
        "# 가중치 w 출력\n",
        "print(W)"
      ],
      "metadata": {
        "colab": {
          "base_uri": "https://localhost:8080/"
        },
        "id": "vpgMq12X3OsU",
        "outputId": "631a0df3-ed94-4f5c-cae9-dd1d822102a0"
      },
      "execution_count": null,
      "outputs": [
        {
          "output_type": "stream",
          "name": "stdout",
          "text": [
            "tensor([0.], requires_grad=True)\n"
          ]
        }
      ]
    },
    {
      "cell_type": "markdown",
      "source": [
        "위의 `requires_grad=True`는 해당 변수가 학습을 통해 계속 값이 변경되는 변수임을 의미하는 것\n",
        "\n",
        "마찬가지로 편향 b도 초기화하고, 학습을 통해 값이 변경되는 변수임을 명시해보자"
      ],
      "metadata": {
        "id": "vP0fBaS_3fFb"
      }
    },
    {
      "cell_type": "code",
      "source": [
        "b = torch.zeros(1, requires_grad=True)\n",
        "print(b)"
      ],
      "metadata": {
        "colab": {
          "base_uri": "https://localhost:8080/"
        },
        "id": "Wb3bm9jt3po5",
        "outputId": "e28ca0bf-7210-45e7-9359-003853e6c318"
      },
      "execution_count": null,
      "outputs": [
        {
          "output_type": "stream",
          "name": "stdout",
          "text": [
            "tensor([0.], requires_grad=True)\n"
          ]
        }
      ]
    },
    {
      "cell_type": "markdown",
      "source": [
        "### 4. 가설 세우기\n",
        "\n",
        "파이토치 코드로 직선의 방정식에 해당하는 가설을 선언"
      ],
      "metadata": {
        "id": "8Tiyx0pU3zHG"
      }
    },
    {
      "cell_type": "code",
      "source": [
        "hypothesis = x_train * W + b\n",
        "print(hypothesis)"
      ],
      "metadata": {
        "colab": {
          "base_uri": "https://localhost:8080/"
        },
        "id": "17-BiANs3837",
        "outputId": "f6a8a61a-c1c9-4d82-9818-ffc4d429a735"
      },
      "execution_count": null,
      "outputs": [
        {
          "output_type": "stream",
          "name": "stdout",
          "text": [
            "tensor([[0.],\n",
            "        [0.],\n",
            "        [0.]], grad_fn=<AddBackward0>)\n"
          ]
        }
      ]
    },
    {
      "cell_type": "markdown",
      "source": [
        "### 5. 비용 함수 선언하기\n",
        "\n",
        "파이토치 코드로 선형 회귀의 비용 함수에 해당되는 MSE(평균 제곱 오차)를 선언"
      ],
      "metadata": {
        "id": "1VI2IKML45AI"
      }
    },
    {
      "cell_type": "code",
      "source": [
        "cost = torch.mean((hypothesis - y_train) ** 2)\n",
        "print(cost)"
      ],
      "metadata": {
        "colab": {
          "base_uri": "https://localhost:8080/"
        },
        "id": "SPB98LEH5AwF",
        "outputId": "868ad778-4181-4c02-e5cf-8c715c221468"
      },
      "execution_count": null,
      "outputs": [
        {
          "output_type": "stream",
          "name": "stdout",
          "text": [
            "tensor(18.6667, grad_fn=<MeanBackward0>)\n"
          ]
        }
      ]
    },
    {
      "cell_type": "markdown",
      "source": [
        "### 6. 경사 하강법 구현하기\n",
        "\n",
        "코드의 `SGD`는 경사 하강법의 일종이다.\n",
        "\n",
        "`lr`은 학습률 (learning rate)를 뜻한다.\n",
        "\n",
        "학습 대상인 w와 b가 SGD의 입력이 된다."
      ],
      "metadata": {
        "id": "sb9e1voP6G6Y"
      }
    },
    {
      "cell_type": "code",
      "source": [
        "optimizer = optim.SGD([W, b], lr=0.01)"
      ],
      "metadata": {
        "id": "8LDbyDMF6U97"
      },
      "execution_count": null,
      "outputs": []
    },
    {
      "cell_type": "markdown",
      "source": [
        "`optimizer.zero_grad()`를 실행하므로서 미분을 통해 얻은 기울기를 0으로 초기화한다.\n",
        "\n",
        "기울기를 초기화해야만 새로운 가중치 편향에 대해 새로운 기울기를 구할 수 있다.\n",
        "\n",
        "그 다음 `cost.backward()` 함수를 호출하면 가중치 W와 편향 b에 대한 기울기가 계산된다.\n",
        "\n",
        "그 다음 경사 하강법 최적화 함수 optimizer의 `.step()` 함수를 호출하여 인수로 들어갔던 W와 b에서 리턴되는 변수들의 기울기에 학습률(learning rate) 0.01을 곱하여 빼줌으로서 업데이트한다."
      ],
      "metadata": {
        "id": "MddZX--k66lH"
      }
    },
    {
      "cell_type": "code",
      "source": [
        "# gradient를 0으로 초기화\n",
        "optimizer.zero_grad()\n",
        "# 비용 함수를 미분하여 gradient 계산\n",
        "cost.backward()\n",
        "# W와 b를 업데이트\n",
        "optimizer.step()"
      ],
      "metadata": {
        "id": "yYvEcJqs8bBY"
      },
      "execution_count": null,
      "outputs": []
    },
    {
      "cell_type": "markdown",
      "source": [
        "### 7. 전체 코드"
      ],
      "metadata": {
        "id": "u9ADlayQ89y3"
      }
    },
    {
      "cell_type": "code",
      "source": [
        "# 데이터\n",
        "x_train = torch.FloatTensor([[1], [2], [3]])\n",
        "y_train = torch.FloatTensor([[2], [4], [6]])\n",
        "# 모델 초기화\n",
        "W = torch.zeros(1, requires_grad=True)\n",
        "b = torch.zeros(1, requires_grad=True)\n",
        "# optimizer 설정\n",
        "optimizer = optim.SGD([W, b], lr=0.01)\n",
        "\n",
        "nb_epochs = 1999 # 원하는만큼 경사 하강법을 반복\n",
        "for epoch in range(nb_epochs + 1):\n",
        "\n",
        "    # H(x) 계산\n",
        "    hypothesis = x_train * W + b\n",
        "\n",
        "    # cost 계산\n",
        "    cost = torch.mean((hypothesis - y_train) ** 2)\n",
        "\n",
        "    # cost로 H(x) 개선\n",
        "    optimizer.zero_grad()\n",
        "    cost.backward()\n",
        "    optimizer.step()\n",
        "\n",
        "    # 100번마다 로그 출력\n",
        "    if epoch % 100 == 0:\n",
        "        print('Epoch {:4d}/{} W: {:.3f}, b: {:.3f} Cost: {:.6f}'.format(\n",
        "            epoch, nb_epochs, W.item(), b.item(), cost.item()\n",
        "        ))\n"
      ],
      "metadata": {
        "colab": {
          "base_uri": "https://localhost:8080/"
        },
        "id": "WFIqNdM18_4s",
        "outputId": "942e9ebd-eea3-4ea0-848b-6e22e7808ee9"
      },
      "execution_count": null,
      "outputs": [
        {
          "output_type": "stream",
          "name": "stdout",
          "text": [
            "Epoch    0/1999 W: 0.187, b: 0.080 Cost: 18.666666\n",
            "Epoch  100/1999 W: 1.746, b: 0.578 Cost: 0.048171\n",
            "Epoch  200/1999 W: 1.800, b: 0.454 Cost: 0.029767\n",
            "Epoch  300/1999 W: 1.843, b: 0.357 Cost: 0.018394\n",
            "Epoch  400/1999 W: 1.876, b: 0.281 Cost: 0.011366\n",
            "Epoch  500/1999 W: 1.903, b: 0.221 Cost: 0.007024\n",
            "Epoch  600/1999 W: 1.924, b: 0.174 Cost: 0.004340\n",
            "Epoch  700/1999 W: 1.940, b: 0.136 Cost: 0.002682\n",
            "Epoch  800/1999 W: 1.953, b: 0.107 Cost: 0.001657\n",
            "Epoch  900/1999 W: 1.963, b: 0.084 Cost: 0.001024\n",
            "Epoch 1000/1999 W: 1.971, b: 0.066 Cost: 0.000633\n",
            "Epoch 1100/1999 W: 1.977, b: 0.052 Cost: 0.000391\n",
            "Epoch 1200/1999 W: 1.982, b: 0.041 Cost: 0.000242\n",
            "Epoch 1300/1999 W: 1.986, b: 0.032 Cost: 0.000149\n",
            "Epoch 1400/1999 W: 1.989, b: 0.025 Cost: 0.000092\n",
            "Epoch 1500/1999 W: 1.991, b: 0.020 Cost: 0.000057\n",
            "Epoch 1600/1999 W: 1.993, b: 0.016 Cost: 0.000035\n",
            "Epoch 1700/1999 W: 1.995, b: 0.012 Cost: 0.000022\n",
            "Epoch 1800/1999 W: 1.996, b: 0.010 Cost: 0.000013\n",
            "Epoch 1900/1999 W: 1.997, b: 0.008 Cost: 0.000008\n"
          ]
        }
      ]
    },
    {
      "cell_type": "markdown",
      "source": [
        "결과적으로 훈련 과정에서 w와 b는 훈련 데이터와 잘 맞는 직선을 표현하기 위한 적절한 값으로 변화해간다.\n",
        "\n",
        "**에포크(Epoch)**는 전체 훈련 데이터가 학습에 한 번 사용된 주기를 말한다.\n",
        "\n",
        "최종 훈련 결과를 보면 최적의 기울기 w는 2에 가깝고, b는 0에 가까운 것을 볼 수 있다.\n",
        "\n",
        "현재 훈련 데이터를 감안하면 실제 정답은 w가 2이고, b가 0인 H(x) = 2x이므로 거의 정답을 찾은 셈이다."
      ],
      "metadata": {
        "id": "HVcYVCSr_fqZ"
      }
    },
    {
      "cell_type": "markdown",
      "source": [
        "### optimizer.zero_grad()가 필요한 이유\n",
        "\n",
        "파이토치는 미분을 통해 얻은 기울기를 이전에 계산된 기울기 값에 누적시키는 특징이 있다."
      ],
      "metadata": {
        "id": "22djxvnw_-TP"
      }
    },
    {
      "cell_type": "code",
      "source": [
        "import torch\n",
        "w = torch.tensor(2.0, requires_grad=True)\n",
        "\n",
        "nb_epochs = 20\n",
        "for epoch in range(nb_epochs + 1):\n",
        "  z = 2*w\n",
        "\n",
        "  z.backward()\n",
        "  print('수식을 w로 미분한 {}번째 값 : {}'.format(epoch, w.grad))"
      ],
      "metadata": {
        "colab": {
          "base_uri": "https://localhost:8080/"
        },
        "id": "5PeultREAHNX",
        "outputId": "5654e81f-e84e-45a2-8f92-26c7eb3a1b74"
      },
      "execution_count": null,
      "outputs": [
        {
          "output_type": "stream",
          "name": "stdout",
          "text": [
            "수식을 w로 미분한 0번째 값 : 2.0\n",
            "수식을 w로 미분한 1번째 값 : 4.0\n",
            "수식을 w로 미분한 2번째 값 : 6.0\n",
            "수식을 w로 미분한 3번째 값 : 8.0\n",
            "수식을 w로 미분한 4번째 값 : 10.0\n",
            "수식을 w로 미분한 5번째 값 : 12.0\n",
            "수식을 w로 미분한 6번째 값 : 14.0\n",
            "수식을 w로 미분한 7번째 값 : 16.0\n",
            "수식을 w로 미분한 8번째 값 : 18.0\n",
            "수식을 w로 미분한 9번째 값 : 20.0\n",
            "수식을 w로 미분한 10번째 값 : 22.0\n",
            "수식을 w로 미분한 11번째 값 : 24.0\n",
            "수식을 w로 미분한 12번째 값 : 26.0\n",
            "수식을 w로 미분한 13번째 값 : 28.0\n",
            "수식을 w로 미분한 14번째 값 : 30.0\n",
            "수식을 w로 미분한 15번째 값 : 32.0\n",
            "수식을 w로 미분한 16번째 값 : 34.0\n",
            "수식을 w로 미분한 17번째 값 : 36.0\n",
            "수식을 w로 미분한 18번째 값 : 38.0\n",
            "수식을 w로 미분한 19번째 값 : 40.0\n",
            "수식을 w로 미분한 20번째 값 : 42.0\n"
          ]
        }
      ]
    },
    {
      "cell_type": "markdown",
      "source": [
        "계속해서 미분값인 2가 누적되는 것을 볼 수 있다.\n",
        "\n",
        "그렇기에 `optimizer.zero_grad()`를 통해 미분값을 계속 0으로 초기화시켜줘야 한다."
      ],
      "metadata": {
        "id": "jbypXAh_B-3h"
      }
    },
    {
      "cell_type": "markdown",
      "source": [
        "### torch.manual_seed()를 하는 이유\n",
        "\n",
        "`torch.manual_seed()`를 사용한 프로그램의 결과는 다른 컴퓨터에서 실행시켜도 동일한 결과를 얻을 수 있다.\n",
        "\n",
        "그 이유는 `torch.manual_seed()`는 난수 발생 순서와 값을 동일하게 보장해준다는 특징때문이다."
      ],
      "metadata": {
        "id": "PRIHJIGwCGo5"
      }
    },
    {
      "cell_type": "code",
      "source": [
        "import torch\n",
        "\n",
        "torch.manual_seed(3)\n",
        "print('랜덤 시드가 3일 때')\n",
        "for i in range(1, 3):\n",
        "  print(torch.rand(1))\n",
        "\n",
        "# 랜덤 시드 값을 바꾸면\n",
        "torch.manual_seed(5)\n",
        "print('랜덤 시드가 5일 때')\n",
        "for i in range(1, 3):\n",
        "  print(torch.rand(1))"
      ],
      "metadata": {
        "colab": {
          "base_uri": "https://localhost:8080/"
        },
        "id": "M8RTg3G7CdmD",
        "outputId": "bd2b7fe6-ca9b-4400-e287-763611f7e297"
      },
      "execution_count": null,
      "outputs": [
        {
          "output_type": "stream",
          "name": "stdout",
          "text": [
            "랜덤 시드가 3일 때\n",
            "tensor([0.0043])\n",
            "tensor([0.1056])\n",
            "랜덤 시드가 5일 때\n",
            "tensor([0.8303])\n",
            "tensor([0.1261])\n"
          ]
        }
      ]
    },
    {
      "cell_type": "markdown",
      "source": [
        "- 텐서에는 `requires_grad`라는 속성이 있다. 이것을 True로 설정하면 자동 미분 기능이 적용된다. 선형 회귀부터 신경망과 같은 복잡한 구조에서 파라미터들이 모두 이 기능이 적용된다. `requires_grad=True`가 적용된 텐서에 연산을 하면, 계산 그래프가 생성되며 backward 함수를 호출하면 그래프로부터 자동으로 미분이 계산된다."
      ],
      "metadata": {
        "id": "dt6j9m20C3bM"
      }
    }
  ]
}
