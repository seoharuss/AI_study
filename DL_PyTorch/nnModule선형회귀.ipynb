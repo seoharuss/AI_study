{
  "nbformat": 4,
  "nbformat_minor": 0,
  "metadata": {
    "colab": {
      "provenance": [],
      "authorship_tag": "ABX9TyNx0dxzAIwyYI1xKsZ/CeL6",
      "include_colab_link": true
    },
    "kernelspec": {
      "name": "python3",
      "display_name": "Python 3"
    },
    "language_info": {
      "name": "python"
    }
  },
  "cells": [
    {
      "cell_type": "markdown",
      "metadata": {
        "id": "view-in-github",
        "colab_type": "text"
      },
      "source": [
        "<a href=\"https://colab.research.google.com/github/seoharuss/AI_study/blob/main/nnModule%EC%84%A0%ED%98%95%ED%9A%8C%EA%B7%80.ipynb\" target=\"_parent\"><img src=\"https://colab.research.google.com/assets/colab-badge.svg\" alt=\"Open In Colab\"/></a>"
      ]
    },
    {
      "cell_type": "markdown",
      "source": [
        "## nn.Module로 구현하는 선형 회귀\n",
        "\n",
        "파이토치에서 이미 구현되어져 제공되고 있는 함수들을 불러와 더 쉽게 선형 회귀 모델을 구현해보자\n",
        "\n",
        "예를 들어 파이토치에서는 선형 회귀 모델이 `nn.Linear()`라는 함수로, MSE는 `nn.functional.mse_loss()`라는 함수로 구현되어져 있다."
      ],
      "metadata": {
        "id": "CPAP5dYiZssE"
      }
    },
    {
      "cell_type": "code",
      "source": [
        "# 두 함수의 사용 예제\n",
        "# import torch.nn as nn\n",
        "# model = nn.Linear(input_dim, output_dim)"
      ],
      "metadata": {
        "id": "tyb5_qA2aNEB"
      },
      "execution_count": null,
      "outputs": []
    },
    {
      "cell_type": "code",
      "source": [
        "# import torch.nn.functional as F\n",
        "# cost = F.mse_loss(predicition, y_train)"
      ],
      "metadata": {
        "id": "ZzwmkOlFaUhN"
      },
      "execution_count": null,
      "outputs": []
    },
    {
      "cell_type": "markdown",
      "source": [
        "## 단순 선형 회귀 구현하기"
      ],
      "metadata": {
        "id": "AN_tm7IQao89"
      }
    },
    {
      "cell_type": "code",
      "source": [
        "import torch\n",
        "import torch.nn as nn\n",
        "import torch.nn.functional as F"
      ],
      "metadata": {
        "id": "CBcPOOWwatGk"
      },
      "execution_count": null,
      "outputs": []
    },
    {
      "cell_type": "markdown",
      "source": [
        "이제 데이터를 선언한다.\n",
        "\n",
        "아래 데이터는 y=2x를 가정된 상태에서 만들어진 데이터로 이미 정답이 w=2, b=0임을 알고 있는 상태다.\n",
        "\n",
        "모델이 이 두 w와 b값을 제대로 찾아내도록 하는 것이 목표다."
      ],
      "metadata": {
        "id": "5UKA6ittazg4"
      }
    },
    {
      "cell_type": "code",
      "source": [
        "# 데이터\n",
        "x_train = torch.FloatTensor([[1], [2], [3]])\n",
        "y_train = torch.FloatTensor([[2], [4], [6]])"
      ],
      "metadata": {
        "id": "GiXZJmQra-mU"
      },
      "execution_count": null,
      "outputs": []
    },
    {
      "cell_type": "markdown",
      "source": [
        "데이터를 정의하였으니 선형 회귀 모델을 구현할 차례다.\n",
        "\n",
        "`nn.Linear()`는 입력의 차원, 출력의 차원을 인수로 받는다."
      ],
      "metadata": {
        "id": "WF4uHMSPiBSw"
      }
    },
    {
      "cell_type": "code",
      "source": [
        "# 모델을 선언 및 초기화. 단순 선형 회귀이므로 inpud_dim=1, output_dim=1\n",
        "model = nn.Linear(1,1)"
      ],
      "metadata": {
        "id": "jfkhRWb6iJW1"
      },
      "execution_count": null,
      "outputs": []
    },
    {
      "cell_type": "markdown",
      "source": [
        "torch.nn.Linear 인자로 1,1을 사용했다.\n",
        "\n",
        "하나의 입력 x에 대해서 하나의 출력 y를 가지므로, 입력 차원과 출력 차원 모두 1을 인수로 사용\n",
        "\n",
        "model에는 가중치 w와 편향 b가 저장되어 있다.\n",
        "\n",
        "이 값은 `model.parameters()`라는 함수를 사용하여 볼러올 수 있다."
      ],
      "metadata": {
        "id": "b3jmrPdvsamB"
      }
    },
    {
      "cell_type": "code",
      "source": [
        "print(list(model.parameters()))"
      ],
      "metadata": {
        "colab": {
          "base_uri": "https://localhost:8080/"
        },
        "id": "SxCccEoeit7F",
        "outputId": "b118e583-46e6-4d66-9cb0-617cf0c21a9e"
      },
      "execution_count": null,
      "outputs": [
        {
          "output_type": "stream",
          "name": "stdout",
          "text": [
            "[Parameter containing:\n",
            "tensor([[-0.5625]], requires_grad=True), Parameter containing:\n",
            "tensor([0.5855], requires_grad=True)]\n"
          ]
        }
      ]
    },
    {
      "cell_type": "markdown",
      "source": [
        "2개의 값이 출력되는데 첫번째 값이 w고, 두번째 값이 b에 해당된다.\n",
        "\n",
        "두 값 모두 현재는 랜덤 초기화가 되어져 있다.\n",
        "\n",
        "그리고 두 값 모두 학습의 대상이므로 requires_grad=True가 되어져 있는 것을 볼 수 있다.\n",
        "\n",
        "이제 옵티마이저를 정의한다.\n",
        "\n",
        "`model.parameters()`를 사용하여 w와 b를 전달한다.\n",
        "\n",
        "학습률(learning rate)는 0.01로 정한다."
      ],
      "metadata": {
        "id": "5PxpiUxwi8b-"
      }
    },
    {
      "cell_type": "code",
      "source": [
        "# optimizer 설정. 경사 하강법 SGD를 사용하고 learning rate를 의미하는 lr은 0.01\n",
        "optimizer = torch.optim.SGD(model.parameters(), lr=0.01)"
      ],
      "metadata": {
        "id": "g3ZWD3xijYTu"
      },
      "execution_count": null,
      "outputs": []
    },
    {
      "cell_type": "code",
      "source": [
        "# 전체 훈련 데이터에 대해 경사 하강법을 2,000회 반복\n",
        "nb_epochs = 2000\n",
        "for epoch in range(nb_epochs + 1):\n",
        "  # H(x) 계산\n",
        "  prediction = model(x_train)\n",
        "\n",
        "  # cost 계산\n",
        "  # 파이토치에서 제공하는 MSE 함수\n",
        "  cost = F.mse_loss(prediction, y_train)\n",
        "\n",
        "  # cost로 H(x) 개선하는 부분\n",
        "  # gradient를 0으로 초기화\n",
        "  optimizer.zero_grad()\n",
        "  # 비용 함수를 미분하여 gradient 계산\n",
        "  cost.backward() # backward 연산\n",
        "  # w와 b를 업데이트\n",
        "  optimizer.step()\n",
        "\n",
        "  if epoch % 100 == 0:\n",
        "    print('Epoch {:4d}/{} Cost: {:.6f}'.format(epoch, nb_epochs, cost.item()))"
      ],
      "metadata": {
        "colab": {
          "base_uri": "https://localhost:8080/"
        },
        "id": "SgNyPz-ijj5t",
        "outputId": "7fd5a1b4-fb27-47cb-bb7a-d6ce34e7ee4e"
      },
      "execution_count": null,
      "outputs": [
        {
          "output_type": "stream",
          "name": "stdout",
          "text": [
            "Epoch    0/2000 Cost: 24.985708\n",
            "Epoch  100/2000 Cost: 0.182560\n",
            "Epoch  200/2000 Cost: 0.112811\n",
            "Epoch  300/2000 Cost: 0.069710\n",
            "Epoch  400/2000 Cost: 0.043077\n",
            "Epoch  500/2000 Cost: 0.026619\n",
            "Epoch  600/2000 Cost: 0.016449\n",
            "Epoch  700/2000 Cost: 0.010164\n",
            "Epoch  800/2000 Cost: 0.006281\n",
            "Epoch  900/2000 Cost: 0.003881\n",
            "Epoch 1000/2000 Cost: 0.002398\n",
            "Epoch 1100/2000 Cost: 0.001482\n",
            "Epoch 1200/2000 Cost: 0.000916\n",
            "Epoch 1300/2000 Cost: 0.000566\n",
            "Epoch 1400/2000 Cost: 0.000350\n",
            "Epoch 1500/2000 Cost: 0.000216\n",
            "Epoch 1600/2000 Cost: 0.000134\n",
            "Epoch 1700/2000 Cost: 0.000083\n",
            "Epoch 1800/2000 Cost: 0.000051\n",
            "Epoch 1900/2000 Cost: 0.000032\n",
            "Epoch 2000/2000 Cost: 0.000019\n"
          ]
        }
      ]
    },
    {
      "cell_type": "markdown",
      "source": [
        "학습이 완료되었다.\n",
        "\n",
        "Cost의 값이 매우 작다.\n",
        "\n",
        "W와 b의 값도 최적화가 되었는지 확인해보자.\n",
        "- x에 임의의 값 4를 넣어 모델이 예측하는 y의 값을 확인해보자"
      ],
      "metadata": {
        "id": "j7Gj1wJulm41"
      }
    },
    {
      "cell_type": "code",
      "source": [
        "# 임의의 입력 4를 선언\n",
        "new_var = torch.FloatTensor([[4.0]])\n",
        "\n",
        "# 입력한 값 4에 대해서 예측값 y를 리턴받아서 pred_y에 저장\n",
        "pred_y = model(new_var) # forward 연산\n",
        "# y = 2x 이므로 입력이 4라면 y가 8에 가까운 값이 나와야 제대로 학습이 된 것\n",
        "print(\"훈련 후 입력이 4일 때의 예측값 :\", pred_y)"
      ],
      "metadata": {
        "colab": {
          "base_uri": "https://localhost:8080/"
        },
        "id": "tTnO68VVlvzJ",
        "outputId": "f296b656-f772-4756-979c-eef2618c38a3"
      },
      "execution_count": null,
      "outputs": [
        {
          "output_type": "stream",
          "name": "stdout",
          "text": [
            "훈련 후 입력이 4일 때의 예측값 : tensor([[7.9912]], grad_fn=<AddmmBackward0>)\n"
          ]
        }
      ]
    },
    {
      "cell_type": "markdown",
      "source": [
        "이 문제의 정답은 y = 2x가 정답이므로 y값이 8에 가까우면 w와 b의 값이 어느정도 최적화가 된 것으로 볼 수 있다.\n",
        "- 실제로 예측된 값은 7.xx로 8에 매우 가깝다."
      ],
      "metadata": {
        "id": "UHDrZpXJmmTi"
      }
    },
    {
      "cell_type": "code",
      "source": [
        "# 학습 후의 w와 b의 값을 출력\n",
        "print(list(model.parameters()))"
      ],
      "metadata": {
        "colab": {
          "base_uri": "https://localhost:8080/"
        },
        "id": "ZP_7xwR_okH6",
        "outputId": "212503b9-aa22-4646-e893-7c964abb4e47"
      },
      "execution_count": null,
      "outputs": [
        {
          "output_type": "stream",
          "name": "stdout",
          "text": [
            "[Parameter containing:\n",
            "tensor([[1.9949]], requires_grad=True), Parameter containing:\n",
            "tensor([0.0116], requires_grad=True)]\n"
          ]
        }
      ]
    },
    {
      "cell_type": "markdown",
      "source": [
        "w의 값이 2에 가깝고, b의 값이 0에 가까운 것을 볼 수 있다.\n",
        "\n",
        "- H(x) 식에 입력 x로부터 예측된 y를 얻는 것을 forward 연산이라고 한다.\n",
        "\n",
        "- 학습 전, prediction = model(x_train)은 x_train으로 부터 예측값을 리턴하므로 forward 연산이다.\n",
        "\n",
        "- 학습 후, pred_y = model(new_var)는 임의의 값 new_var로부터 예측값을 리턴하므로 forward 연산이다.\n",
        "\n",
        "- 학습 과정에서 비용 함수를 미분하여 기울기를 구하는 것을 backward 연산이라고 한다.\n",
        "\n",
        "- cost.backward()는 비용 함수로부터 기울기를 구하라는 의미이며 backward 연산이다."
      ],
      "metadata": {
        "id": "q214cN4UoyQS"
      }
    },
    {
      "cell_type": "markdown",
      "source": [
        "## 다중 선형 회귀 구현\n"
      ],
      "metadata": {
        "id": "HO4YmqfVD5C9"
      }
    },
    {
      "cell_type": "code",
      "source": [
        "import torch\n",
        "import torch.nn as nn\n",
        "import torch.nn.functional as F"
      ],
      "metadata": {
        "id": "Pvg0r14CD_G4"
      },
      "execution_count": null,
      "outputs": []
    },
    {
      "cell_type": "code",
      "source": [
        "# 데이터 선언\n",
        "x_train = torch.FloatTensor([[73, 80, 75],\n",
        "                             [93, 88, 93],\n",
        "                             [89, 91, 90],\n",
        "                             [96, 98, 100],\n",
        "                             [73, 66, 70]])\n",
        "y_train = torch.FloatTensor([[152], [185], [180], [196], [142]])"
      ],
      "metadata": {
        "id": "GuFrH61OEKEV"
      },
      "execution_count": null,
      "outputs": []
    },
    {
      "cell_type": "code",
      "source": [
        "# 모델을 선언 및 초기화. 다중 선형 회귀이므로 input_dim=3, output_dim=1\n",
        "model = nn.Linear(3,1)"
      ],
      "metadata": {
        "id": "1oCFrugTEeCT"
      },
      "execution_count": null,
      "outputs": []
    },
    {
      "cell_type": "markdown",
      "source": [
        "`torch.nn.Linear()`의 인자로 3, 1을 사용했다.\n",
        "\n",
        "3개의 입력 x에 대해서 하나의 출력 y를 가지므로 입력차원은 3, 출력차원은 1을 인수로 사용했다.\n",
        "\n",
        "model에는 3개의 가중치 w와 편향 b가 저장되어 있다.\n",
        "\n",
        "이 값은 model.parameters()라는 함수를 사용하여 불러올 수 있다."
      ],
      "metadata": {
        "id": "uU1RUcKbEswj"
      }
    },
    {
      "cell_type": "code",
      "source": [
        "print(list(model.parameters()))"
      ],
      "metadata": {
        "colab": {
          "base_uri": "https://localhost:8080/"
        },
        "id": "uDF6zZ87FzNH",
        "outputId": "7c9627f3-3a8f-4bc5-c974-5405f1780943"
      },
      "execution_count": null,
      "outputs": [
        {
          "output_type": "stream",
          "name": "stdout",
          "text": [
            "[Parameter containing:\n",
            "tensor([[-0.1841, -0.1323, -0.1447]], requires_grad=True), Parameter containing:\n",
            "tensor([-0.0263], requires_grad=True)]\n"
          ]
        }
      ]
    },
    {
      "cell_type": "markdown",
      "source": [
        "첫번째 출력되는 것이 3개의 w고, 두번째 출력되는 것이 b에 해당 된다.\n",
        "\n",
        "두 값 모두 현재는 랜덤 초기화가 되어있다.\n",
        "\n",
        "그리고 두 출력 결과 모두 학습 대상이므로 requires_grad=True가 되어져 있다.\n",
        "\n",
        "이제 옵티마이저를 정의한다.\n",
        "\n",
        "`model.parameters()`를 사용하여 3개의 w와 b를 전달한다.\n",
        "\n",
        "학습률(learning rate)는 0.00001로 정한다.\n",
        "- 파이썬 코드로는 1e-5로도 표기\n",
        "- 0.01로 하지 않는 이유는 기울기가 발산하기 때문"
      ],
      "metadata": {
        "id": "z4kWNXIJF__I"
      }
    },
    {
      "cell_type": "code",
      "source": [
        "optimizer = torch.optim.SGD(model.parameters(), lr=1e-5)"
      ],
      "metadata": {
        "id": "pWJMw-wKGdYP"
      },
      "execution_count": null,
      "outputs": []
    },
    {
      "cell_type": "markdown",
      "source": [
        "이하 코드는 단순 선형 회귀를 구현했을 때와 동일하다."
      ],
      "metadata": {
        "id": "gKoA4f4kGmei"
      }
    },
    {
      "cell_type": "code",
      "source": [
        "nb_epochs = 2000\n",
        "for epoch in range(nb_epochs + 1):\n",
        "  prediction = model(x_train)\n",
        "  # model(x_train)은 model.forward(x_train)와 동일\n",
        "  cost = F.mse_loss(prediction, y_train)\n",
        "\n",
        "  optimizer.zero_grad()\n",
        "  cost.backward()\n",
        "  optimizer.step()\n",
        "\n",
        "  if epoch % 100 == 0:\n",
        "    print('Epoch {:4d}/{} Cost: {:.6f}'.format(\n",
        "          epoch, nb_epochs, cost.item()\n",
        "      ))"
      ],
      "metadata": {
        "colab": {
          "base_uri": "https://localhost:8080/"
        },
        "id": "XV0OdUZ7GrdU",
        "outputId": "62d45195-17e8-4845-8270-25652b5b0f07"
      },
      "execution_count": null,
      "outputs": [
        {
          "output_type": "stream",
          "name": "stdout",
          "text": [
            "Epoch    0/2000 Cost: 44832.523438\n",
            "Epoch  100/2000 Cost: 1.865190\n",
            "Epoch  200/2000 Cost: 1.784216\n",
            "Epoch  300/2000 Cost: 1.707488\n",
            "Epoch  400/2000 Cost: 1.634775\n",
            "Epoch  500/2000 Cost: 1.565848\n",
            "Epoch  600/2000 Cost: 1.500517\n",
            "Epoch  700/2000 Cost: 1.438588\n",
            "Epoch  800/2000 Cost: 1.379892\n",
            "Epoch  900/2000 Cost: 1.324255\n",
            "Epoch 1000/2000 Cost: 1.271495\n",
            "Epoch 1100/2000 Cost: 1.221478\n",
            "Epoch 1200/2000 Cost: 1.174083\n",
            "Epoch 1300/2000 Cost: 1.129134\n",
            "Epoch 1400/2000 Cost: 1.086514\n",
            "Epoch 1500/2000 Cost: 1.046105\n",
            "Epoch 1600/2000 Cost: 1.007792\n",
            "Epoch 1700/2000 Cost: 0.971460\n",
            "Epoch 1800/2000 Cost: 0.937017\n",
            "Epoch 1900/2000 Cost: 0.904327\n",
            "Epoch 2000/2000 Cost: 0.873338\n"
          ]
        }
      ]
    },
    {
      "cell_type": "markdown",
      "source": [
        "3개의 w와 b의 값도 최적화가 되었는지 확인"
      ],
      "metadata": {
        "id": "AcDz9BaTHdph"
      }
    },
    {
      "cell_type": "code",
      "source": [
        "# 임의의 입력 선언\n",
        "new_var = torch.FloatTensor([[73, 80, 75]])\n",
        "# 예측값 y를 리턴 받아서 pred_y에 저장\n",
        "pred_y = model(new_var)\n",
        "print(\"훈련 후 입력이 73, 80, 75일 때의 예측값 :\", pred_y)"
      ],
      "metadata": {
        "colab": {
          "base_uri": "https://localhost:8080/"
        },
        "id": "IJ_KeA5iHhNm",
        "outputId": "4dc5c02b-63dd-496e-ec73-07de0bc7cbbd"
      },
      "execution_count": null,
      "outputs": [
        {
          "output_type": "stream",
          "name": "stdout",
          "text": [
            "훈련 후 입력이 73, 80, 75일 때의 예측값 : tensor([[152.2239]], grad_fn=<AddmmBackward0>)\n"
          ]
        }
      ]
    },
    {
      "cell_type": "code",
      "source": [
        "print(list(model.parameters()))"
      ],
      "metadata": {
        "colab": {
          "base_uri": "https://localhost:8080/"
        },
        "id": "xP5_buxiH_1x",
        "outputId": "6d2d2243-a180-425b-bf47-fb386690ecf6"
      },
      "execution_count": null,
      "outputs": [
        {
          "output_type": "stream",
          "name": "stdout",
          "text": [
            "[Parameter containing:\n",
            "tensor([[0.7354, 0.5816, 0.6937]], requires_grad=True), Parameter containing:\n",
            "tensor([-0.0138], requires_grad=True)]\n"
          ]
        }
      ]
    }
  ]
}
