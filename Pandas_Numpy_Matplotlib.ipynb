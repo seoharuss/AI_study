{
  "nbformat": 4,
  "nbformat_minor": 0,
  "metadata": {
    "colab": {
      "provenance": [],
      "collapsed_sections": [
        "ut2w3wGVBOcU",
        "0-Y67Fg2DfZD",
        "CsF4xxL8F0PY",
        "mXTaRFcmGDG_",
        "e2jv_II6GjJM",
        "D7f1cy-LHJeJ",
        "UKxgP_wHHb_n",
        "hjjrw-oxQ_g6"
      ],
      "authorship_tag": "ABX9TyOk6gXS2oy3cSoedA1g1xh3",
      "include_colab_link": true
    },
    "kernelspec": {
      "name": "python3",
      "display_name": "Python 3"
    },
    "language_info": {
      "name": "python"
    }
  },
  "cells": [
    {
      "cell_type": "markdown",
      "metadata": {
        "id": "view-in-github",
        "colab_type": "text"
      },
      "source": [
        "<a href=\"https://colab.research.google.com/github/seoharuss/AI_study/blob/main/Pandas_Numpy_Matplotlib.ipynb\" target=\"_parent\"><img src=\"https://colab.research.google.com/assets/colab-badge.svg\" alt=\"Open In Colab\"/></a>"
      ]
    },
    {
      "cell_type": "markdown",
      "source": [
        "## Pandas\n",
        "- 시리즈 (Series)\n",
        "- 데이터프레임 (DataFrame)\n",
        "- 패널 (Panel)\n"
      ],
      "metadata": {
        "id": "ut2w3wGVBOcU"
      }
    },
    {
      "cell_type": "markdown",
      "source": [
        "### 1. 시리즈 (Series)\n",
        "\n",
        "1차원 배열의 값(values)에 각 값에 대응되는 인덱스(index)를 부여할 수 있는 구조"
      ],
      "metadata": {
        "id": "0-Y67Fg2DfZD"
      }
    },
    {
      "cell_type": "code",
      "source": [
        "import pandas as pd\n",
        "sr = pd.Series([17000, 18000, 1000, 5000],\n",
        "               index=[\"피자\", \"치킨\", \"콜라\", \"맥주\"])\n",
        "print('시리즈 출력 :')\n",
        "print('-'*15)\n",
        "print(sr)\n",
        "\n",
        "# 시리즈 출력 :\n",
        "# ---------------\n",
        "# 피자    17000\n",
        "# 치킨    18000\n",
        "# 콜라     1000\n",
        "# 맥주     5000\n",
        "# dtype: int64"
      ],
      "metadata": {
        "id": "oE7TOxEoDqZD"
      },
      "execution_count": null,
      "outputs": []
    },
    {
      "cell_type": "markdown",
      "source": [
        "값(values)과 인덱스(index)를 출력"
      ],
      "metadata": {
        "id": "N26Xj3FYDzNg"
      }
    },
    {
      "cell_type": "code",
      "source": [
        "print('시리즈의 값 : {}'.format(sr.values))\n",
        "print('시리즈의 인덱스 : {}'.format(sr.index))\n",
        "\n",
        "# 시리즈의 값 : [17000 18000  1000  5000]\n",
        "# 시리즈의 인덱스 : Index(['피자', '치킨', '콜라', '맥주'], dtype='object')"
      ],
      "metadata": {
        "id": "zKAEcbZVD5k9"
      },
      "execution_count": null,
      "outputs": []
    },
    {
      "cell_type": "markdown",
      "source": [
        "### 2. 데이터프레임 (DataFrame)\n",
        "\n",
        "데이터프레임은 2차원 리스트를 매개변수로 전달\n",
        "\n",
        "2차원이므로 행방향 인덱스(index)와 열방향 인덱스(column)가 존재\n",
        "\n",
        "시리즈가 인덱스(index)와 값(values)으로 구성된다면, 데이터프레임은 열(columns)까지 추가되어 열(columns), 인덱스(index), 값(values)으로 구성"
      ],
      "metadata": {
        "id": "CsF4xxL8F0PY"
      }
    },
    {
      "cell_type": "code",
      "source": [
        "values = [[1, 2, 3], [4, 5, 6], [7, 8, 9]]\n",
        "index = ['one', 'two', 'three']\n",
        "columns = ['A', 'B', 'C']\n",
        "\n",
        "df = pd.DataFrame(values, index=index, columns=columns)\n",
        "\n",
        "print('데이터프레임 출력 :')\n",
        "print('-'*18)\n",
        "print(df)\n",
        "\n",
        "# 데이터프레임 출력 :\n",
        "# ------------------\n",
        "#        A  B  C\n",
        "# one    1  2  3\n",
        "# two    4  5  6\n",
        "# three  7  8  9"
      ],
      "metadata": {
        "id": "RZqn2BL1EhWF"
      },
      "execution_count": null,
      "outputs": []
    },
    {
      "cell_type": "markdown",
      "source": [
        "생성된 데이터프레임으로부터 인덱스(index), 값(values), 열(columns)을 각각 출력"
      ],
      "metadata": {
        "id": "QdhOAUkAEvWb"
      }
    },
    {
      "cell_type": "code",
      "source": [
        "print('데이터프레임의 인덱스 : {}'.format(df.index))\n",
        "print('데이터프레임의 열이름: {}'.format(df.columns))\n",
        "print('데이터프레임의 값 :')\n",
        "print('-'*18)\n",
        "print(df.values)\n",
        "\n",
        "# 데이터프레임의 인덱스 : Index(['one', 'two', 'three'], dtype='object')\n",
        "# 데이터프레임의 열이름: Index(['A', 'B', 'C'], dtype='object')\n",
        "# 데이터프레임의 값 :\n",
        "# ------------------\n",
        "# [[1 2 3]\n",
        "#  [4 5 6]\n",
        "#  [7 8 9]]"
      ],
      "metadata": {
        "id": "YITEmsu_E2bS"
      },
      "execution_count": null,
      "outputs": []
    },
    {
      "cell_type": "markdown",
      "source": [
        "### 3. 데이터프레임 조회하기\n",
        "\n",
        "다음 명령어는 데이터프레임에서 원하는 구간만 확인하기 위한 명령어로서 유용하게 사용된다.\n",
        "- `df.head(n)` - 앞 부분을 n개만 보기\n",
        "- `df.tail(n)` - 뒷 부분을 n개만 보기\n",
        "- `df['열이름']` - 해당되는 열을 확인"
      ],
      "metadata": {
        "id": "mXTaRFcmGDG_"
      }
    },
    {
      "cell_type": "code",
      "source": [
        "# 앞 부분을 3개만 보기\n",
        "print(df.head(3))\n",
        "\n",
        "#      학번      이름     점수\n",
        "# 0  1000   Steve  90.72\n",
        "# 1  1001   James  78.09\n",
        "# 2  1002  Doyeon  98.43"
      ],
      "metadata": {
        "id": "rdAILtr4GVCT"
      },
      "execution_count": null,
      "outputs": []
    },
    {
      "cell_type": "code",
      "source": [
        "# 뒷 부분을 3개만 보기\n",
        "print(df.tail(3))\n",
        "\n",
        "#      학번        이름     점수\n",
        "# 3  1003      Jane  64.19\n",
        "# 4  1004  Pilwoong  81.30\n",
        "# 5  1005      Tony  99.14"
      ],
      "metadata": {
        "id": "ssw7ZP1ZGZC7"
      },
      "execution_count": null,
      "outputs": []
    },
    {
      "cell_type": "code",
      "source": [
        "# '학번'에 해당되는 열을 보기\n",
        "print(df['학번'])\n",
        "\n",
        "# 0    1000\n",
        "# 1    1001\n",
        "# 2    1002\n",
        "# 3    1003\n",
        "# 4    1004\n",
        "# 5    1005\n",
        "# Name: 학번, dtype: object"
      ],
      "metadata": {
        "id": "5DVaZRO0GcEb"
      },
      "execution_count": null,
      "outputs": []
    },
    {
      "cell_type": "markdown",
      "source": [
        "### 4. 외부 데이터 읽기\n",
        "\n",
        "Pandas는 CSV, 텍스트, Excel, SQL, HTML, JSON 등 다양한 데이터 파일을 읽고 데이터 프레임을 생성할 수 있다.\n",
        "\n",
        "예를 들어 csv 파일을 읽을 때는 pandas.read_csv()를 통해 읽을 수 있다.\n",
        "다음과 같은 example.csv 파일이 있다고 합시다."
      ],
      "metadata": {
        "id": "e2jv_II6GjJM"
      }
    },
    {
      "cell_type": "code",
      "source": [
        "df = pd.read_csv('example.csv')\n",
        "print(df)\n",
        "\n",
        "#    student id      name  score\n",
        "# 0        1000     Steve  90.72\n",
        "# 1        1001     James  78.09\n",
        "# 2        1002    Doyeon  98.43\n",
        "# 3        1003      Jane  64.19\n",
        "# 4        1004  Pilwoong  81.30\n",
        "# 5        1005      Tony  99.14"
      ],
      "metadata": {
        "id": "kPf8THeQGssG"
      },
      "execution_count": null,
      "outputs": []
    },
    {
      "cell_type": "markdown",
      "source": [
        "이 경우 인덱스가 자동으로 부여된다. 인덱스를 출력해보면,"
      ],
      "metadata": {
        "id": "eId0IoarG0hv"
      }
    },
    {
      "cell_type": "code",
      "source": [
        "print(df.index)\n",
        "\n",
        "# RangeIndex(start=0, stop=6, step=1)"
      ],
      "metadata": {
        "id": "EhuJCW9MG36W"
      },
      "execution_count": null,
      "outputs": []
    },
    {
      "cell_type": "markdown",
      "source": [
        "## 넘파이(Numpy)\n",
        "\n",
        "넘파이(Numpy)는 수치 데이터를 다루는 파이썬 패키지\n",
        "\n",
        "Numpy의 핵심이라고 불리는 다차원 행렬 자료구조인 ndarray를 통해 벡터 및 행렬을 사용하는 선형 대수 계산에서 주로 사용\n",
        "\n",
        "Numpy는 편의성뿐만 아니라, 속도면에서도 순수 파이썬에 비해 압도적으로 빠르다는 장점"
      ],
      "metadata": {
        "id": "D7f1cy-LHJeJ"
      }
    },
    {
      "cell_type": "markdown",
      "source": [
        "Numpy의 경우 np라는 명칭으로 import하는 것이 관례"
      ],
      "metadata": {
        "id": "4XC0t4JdHUp3"
      }
    },
    {
      "cell_type": "code",
      "source": [
        "import numpy as np"
      ],
      "metadata": {
        "id": "nDdrlbQuHZfq"
      },
      "execution_count": null,
      "outputs": []
    },
    {
      "cell_type": "markdown",
      "source": [
        "### 1. np.array()\n",
        "\n",
        "Numpy의 핵심은 ndarray\n",
        "\n",
        "np.array()는 리스트, 튜플, 배열로 부터 ndarray를 생성"
      ],
      "metadata": {
        "id": "UKxgP_wHHb_n"
      }
    },
    {
      "cell_type": "code",
      "source": [
        "# 1차원 배열\n",
        "vec = np.array([1, 2, 3, 4, 5])\n",
        "print(vec)\n",
        "\n",
        "# [1 2 3 4 5]"
      ],
      "metadata": {
        "id": "sk-fLyAqHmGK"
      },
      "execution_count": null,
      "outputs": []
    },
    {
      "cell_type": "markdown",
      "source": [
        "2차원 배열\n",
        "\n",
        "주의할 점은 array() 안에 하나의 리스트만 들어가므로 리스트의 리스트를 넣어야 한다."
      ],
      "metadata": {
        "id": "AjIJyu2jHsZ2"
      }
    },
    {
      "cell_type": "code",
      "source": [
        "# 2차원 배열\n",
        "mat = np.array([[10, 20, 30], [ 60, 70, 80]])\n",
        "print(mat)\n",
        "\n",
        "# [[10 20 30]\n",
        "#  [60 70 80]]"
      ],
      "metadata": {
        "id": "UfFCYlPqH0Ba"
      },
      "execution_count": null,
      "outputs": []
    },
    {
      "cell_type": "markdown",
      "source": [
        "두 배열의 타입을 확인해보면"
      ],
      "metadata": {
        "id": "Fl0MMl4bIW2K"
      }
    },
    {
      "cell_type": "code",
      "source": [
        "print('vec의 타입 :',type(vec))\n",
        "print('mat의 타입 :',type(mat))\n",
        "\n",
        "# vec의 타입 : <class 'numpy.ndarray'>\n",
        "# mat의 타입 : <class 'numpy.ndarray'>"
      ],
      "metadata": {
        "id": "_73RAxMsIZQ9"
      },
      "execution_count": null,
      "outputs": []
    },
    {
      "cell_type": "markdown",
      "source": [
        "동일하게 타입이 numpy.ndarray라고 나오게 된다.\n",
        "\n",
        "Numpy 배열에는 축의 개수(ndim)와 크기(shape)라는 개념이 존재하는데, 배열의 크기를 정확히 숙지하는 것은 딥 러닝에서 매우 중요하다."
      ],
      "metadata": {
        "id": "uWIZ_Uo8IdqX"
      }
    },
    {
      "cell_type": "markdown",
      "source": [
        "### 2. ndarray의 초기화\n",
        "\n",
        "`np.zeros()`\n",
        "- 배열의 모든 원소에 0을 삽입\n",
        "\n",
        "`np.ones()`\n",
        "- 배열의 모든 원소에 1을 삽입\n",
        "\n",
        "`np.full()`\n",
        "- 배열에 사용자가 지정한 값을 삽입\n",
        "\n",
        "`np.eye()`\n",
        "- 대각선으로는 1이고 나머지는 0인 2차원 배열을 생성\n",
        "\n",
        "`np.random.random()`\n",
        "- 임의의 값을 가지는 배열을 생성\n"
      ],
      "metadata": {
        "id": "rhx8_HxLJzHL"
      }
    },
    {
      "cell_type": "markdown",
      "source": [
        "### 3. np.arange()\n",
        "\n",
        "- 0부터 n-1까지의 값을 가지는 배열을 생성\n",
        "\n",
        "`np.arange(i, j, k)`\n",
        "- i부터 j-1까지 k씩 증가하는 배열 생성\n"
      ],
      "metadata": {
        "id": "XoZiC6IUKLHC"
      }
    },
    {
      "cell_type": "markdown",
      "source": [
        "### 4. np.reshape()\n",
        "- 내부 데이터는 변경하지 않으면서 배열의 구조를 변경\n"
      ],
      "metadata": {
        "id": "JBWO7zl6KZQh"
      }
    },
    {
      "cell_type": "markdown",
      "source": [
        "### 5. Numpy 슬라이싱\n",
        "- 슬라이싱 기능을 사용하여 특정 행이나 열들의 원소들을 접근 가능\n",
        "\n",
        "`[0, :]`\n",
        "- 첫번째 행 출력\n",
        "\n",
        "`[:, 1]`\n",
        "- 두번째 행 출력\n",
        "\n"
      ],
      "metadata": {
        "id": "tLtaTDc_KjOM"
      }
    },
    {
      "cell_type": "markdown",
      "source": [
        "### 6. Numpy 정수 인덱싱(integer indexing)\n",
        "\n",
        "슬라이싱을 사용하면 배열로부터 부분 배열을 추출할 수 있지만, 연속적이지 않은 원소로 만들 경우에는 슬라이싱으로 만들 수 없다.\n",
        "\n",
        "예를 들어 2행 2열의 원소와 5행 5열의 원소를 뽑아서 하나의 배열로 만들고자 하는 경우가 그렇다 볼 수 있다.\n",
        "\n",
        "이런 경우에는 인덱싱을 사용하여 배열을 구성할 수 있다.\n",
        "\n",
        "인덱싱은 원하는 위치의 원소들을 뽑을 수 있다.\n",
        "\n",
        "`mat[1,0]`\n",
        "- 1행 0열의 원소 가져옴\n",
        "- 0부터 카운트하므로 두번째 행 첫번째 열의 원소\n",
        "\n",
        "`mat[[2, 1], [0, 1]]`\n",
        "- mat[[2행, 1행], [0열, 1열]]\n",
        "- 각 행과 열의 쌍을 매칭하면 2행 0열, 1행 1열의 두 개의 원소\n"
      ],
      "metadata": {
        "id": "BoSyPG8kK3Gw"
      }
    },
    {
      "cell_type": "markdown",
      "source": [
        "### 7. Numpy 연산\n",
        "\n",
        "`np.add()`\n",
        "- 더하기\n",
        "\n",
        "`np.subtract()`\n",
        "- 빼기\n",
        "\n",
        "`np.multiply()`\n",
        "- 곱하기\n",
        "\n",
        "`np.dot()`\n",
        "- 벡터와 행렬곱 or 행렬곱과 행렬곱\n",
        "\n",
        "`np.divide()`\n",
        "- 나누기"
      ],
      "metadata": {
        "id": "Dpgsuvv_L5Xt"
      }
    },
    {
      "cell_type": "markdown",
      "source": [
        "## 맷플롯립(Matplotlib)\n",
        "\n",
        "맷플롯립(Matplotlib)은 데이터를 차트(chart)나 플롯(plot)으로 시각화하는 패키지\n",
        "\n",
        "데이터 분석에서 Matplotlib은 데이터 분석 이전에 데이터 이해를 위한 시각화나, 데이터 분석 후에 결과를 시각화하기 위해서 사용된다."
      ],
      "metadata": {
        "id": "hjjrw-oxQ_g6"
      }
    },
    {
      "cell_type": "code",
      "source": [
        "import matplotlib.pyplot as plt"
      ],
      "metadata": {
        "id": "xExJcaqxRMfV"
      },
      "execution_count": null,
      "outputs": []
    },
    {
      "cell_type": "markdown",
      "source": [
        "### 1. 라인 플롯 그리기\n",
        "\n",
        "`plot()`\n",
        "\n",
        "라인 플롯을 그리는 기능을 수행\n",
        "\n",
        "plot()에 x축과 y축의 값을 기재하고 그림을 표시하는 show()를 통해서 시각화\n",
        "\n",
        "그래프에는 title('제목')을 사용하여 제목을 지정할 수 있습니다.\n",
        "\n",
        "여기서는 그래프에 'test'라는 제목을 넣어봅시다.\n",
        "\n",
        "주피터 노트북에서는 show()를 사용하지 않더라도 그래프가 자동으로 렌더링 되므로 그래프가 시각화가 되지만 다른 개발 환경에서 사용할 때를 가정하여 show()를 코드에 삽입하였습니다."
      ],
      "metadata": {
        "id": "nzqrCJcYRQyc"
      }
    },
    {
      "cell_type": "markdown",
      "source": [
        "### 2. 축 레이블 삽입하기\n",
        "\n",
        "`xlabel('축이름')`, `ylabel('축이름')`\n",
        "- x축과 y축 각각에 축이름을 삽입"
      ],
      "metadata": {
        "id": "89GPOW1ySDFd"
      }
    },
    {
      "cell_type": "markdown",
      "source": [
        "### 3. 라인 추가와 범례 삽입하기\n",
        "\n",
        "`plt.legend()`\n",
        "- 다수의 plot()을 하나의 그래프에 나타낼 수 있다. 여러 개의 라인 플롯을 동시에 사용할 경우에는 각 선이 어떤 데이터를 나타내는지를 보여주기 위해 범례(legend)를 사용할 수 있다."
      ],
      "metadata": {
        "id": "SnmLYKXySP8V"
      }
    }
  ]
}