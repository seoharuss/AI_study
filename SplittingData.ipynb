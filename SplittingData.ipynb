{
  "nbformat": 4,
  "nbformat_minor": 0,
  "metadata": {
    "colab": {
      "provenance": [],
      "authorship_tag": "ABX9TyPUNS6P0dHKDDNd5JApS+Tw",
      "include_colab_link": true
    },
    "kernelspec": {
      "name": "python3",
      "display_name": "Python 3"
    },
    "language_info": {
      "name": "python"
    }
  },
  "cells": [
    {
      "cell_type": "markdown",
      "metadata": {
        "id": "view-in-github",
        "colab_type": "text"
      },
      "source": [
        "<a href=\"https://colab.research.google.com/github/seoharuss/AI_study/blob/main/SplittingData.ipynb\" target=\"_parent\"><img src=\"https://colab.research.google.com/assets/colab-badge.svg\" alt=\"Open In Colab\"/></a>"
      ]
    },
    {
      "cell_type": "markdown",
      "source": [
        "## 데이터의 분리(Splitting Data)\n",
        "\n",
        "지도 학습을 위한 데이터 분리 작업"
      ],
      "metadata": {
        "id": "_XFg9E1oebpY"
      }
    },
    {
      "cell_type": "code",
      "source": [
        "import pandas as pd\n",
        "import numpy as np\n",
        "from sklearn.model_selection import train_test_split"
      ],
      "metadata": {
        "id": "5y8Ti4FUemCo"
      },
      "execution_count": null,
      "outputs": []
    },
    {
      "cell_type": "markdown",
      "source": [
        "### x와 y 분리하기\n",
        "\n",
        "`zip()`\n",
        "- 동일한 개수를 가지는 시퀀스 자료형에서 각 순서에 등장하는 원소들끼리 묶어주는 역할"
      ],
      "metadata": {
        "id": "WHBGDYYpenC8"
      }
    },
    {
      "cell_type": "markdown",
      "source": [
        "### 테스트 데이터 분리하기\n",
        "\n",
        "x와 y가 이미 분리된 데이터에 대해서 테스트 데이터를 분리하는 과정\n"
      ],
      "metadata": {
        "id": "WhL-RmwYe16O"
      }
    },
    {
      "cell_type": "markdown",
      "source": [
        "#### 사이킷런\n",
        "- `train_test_split()`\n",
        "- 기본적으로 데이터의 순서를 섞고나서 훈련 데이터와 테스트 데이터를 분리한다.\n",
        "- 만약 random_state의 값을 특정 숫자로 기재해준 뒤에 다음에도 동일한 숫자로 기재해주면 항상 동일한 훈련 데이터와 테스트 데이터를 얻을 수 있다."
      ],
      "metadata": {
        "id": "p6j6DZXLgPAz"
      }
    },
    {
      "cell_type": "code",
      "source": [
        "X_train, X_test, y_train, y_test =\n",
        "    train_test_split(X, y, test_size= 0.2, random_state=1234)\n"
      ],
      "metadata": {
        "id": "YAlr_tv6fFOk"
      },
      "execution_count": null,
      "outputs": []
    },
    {
      "cell_type": "markdown",
      "source": [
        "각 인자는 다음을 의미한다.\n",
        "train_size와 test_size는 둘 중 하나만 기재해도 된다.\n",
        "\n",
        "X : 독립 변수 데이터. (배열이나 데이터프레임)\n",
        "\n",
        "y : 종속 변수 데이터. 레이블 데이터.\n",
        "\n",
        "test_size : 테스트용 데이터 개수를 지정한다. 1보다 작은 실수를 기재할 경우, 비율을 나타낸다.\n",
        "\n",
        "train_size : 학습용 데이터의 개수를 지정한다. 1보다 작은 실수를 기재할 경우, 비율을 나타낸다.\n",
        "\n",
        "random_state : 난수 시드"
      ],
      "metadata": {
        "id": "GtbH7R2UfJmS"
      }
    },
    {
      "cell_type": "markdown",
      "source": [
        "#### 수동으로 분리하기"
      ],
      "metadata": {
        "id": "6zRIX48TgXgu"
      }
    },
    {
      "cell_type": "code",
      "source": [
        "# 실습을 위해 임의로 X와 y가 이미 분리 된 데이터를 생성\n",
        "X, y = np.arange(0,24).reshape((12,2)), range(12)\n",
        "\n",
        "print('X 전체 데이터 :')\n",
        "print(X)\n",
        "print('y 전체 데이터 :')\n",
        "print(list(y))\n",
        "\n",
        "# X 전체 데이터 :\n",
        "# [[ 0  1]\n",
        "#  [ 2  3]\n",
        "#  [ 4  5]\n",
        "#  [ 6  7]\n",
        "#  [ 8  9]\n",
        "#  [10 11]\n",
        "#  [12 13]\n",
        "#  [14 15]\n",
        "#  [16 17]\n",
        "#  [18 19]\n",
        "#  [20 21]\n",
        "#  [22 23]]\n",
        "# y 전체 데이터 :\n",
        "# [0, 1, 2, 3, 4, 5, 6, 7, 8, 9, 10, 11]"
      ],
      "metadata": {
        "id": "LjIR_bmmgjOV"
      },
      "execution_count": null,
      "outputs": []
    },
    {
      "cell_type": "markdown",
      "source": [
        "훈련 데이터의 개수와 테스트 데이터의 개수를 정해보자.\n",
        "\n",
        "num_of_train은 훈련 데이터의 개수를 의미하며, num_of_test는 테스트 데이터의 개수를 의미한다."
      ],
      "metadata": {
        "id": "frOpCl_8goQf"
      }
    },
    {
      "cell_type": "code",
      "source": [
        "num_of_train = int(len(X) * 0.8) # 데이터의 전체 길이의 80%에 해당하는 길이값을 구한다.\n",
        "num_of_test = int(len(X) - num_of_train) # 전체 길이에서 80%에 해당하는 길이를 뺀다.\n",
        "print('훈련 데이터의 크기 :',num_of_train)\n",
        "print('테스트 데이터의 크기 :',num_of_test)\n",
        "\n",
        "# 훈련 데이터의 크기 : 9\n",
        "# 테스트 데이터의 크기 : 3"
      ],
      "metadata": {
        "id": "Bi8mfXY2gte7"
      },
      "execution_count": null,
      "outputs": []
    },
    {
      "cell_type": "markdown",
      "source": [
        "아직 훈련 데이터와 테스트 데이터를 나눈 것이 아니라 이 두 개의 개수를 몇 개로 할지 정하기만 한 상태다.\n",
        "\n",
        "여기서 num_of_test를 len(X) * 0.2로 계산해서는 안된다.\n",
        "- 데이터에 누락이 발생할 수 있다.\n",
        "\n",
        "예를 들어서 전체 데이터의 개수가 4,518이라고 가정했을 때 4,518의 80%의 값은 3,614.4로 소수점을 내리면 3,614가 된다.\n",
        "\n",
        "또한 4,518의 20%의 값은 903.6으로 소수점을 내리면 903이 된다.\n",
        "\n",
        "그리고 3,614 + 903 = 4517이므로 데이터 1개가 누락이 된다.\n",
        "\n",
        "그러므로 어느 한 쪽을 먼저 계산하고 그 값만큼 제외하는 방식으로 계산해야 한다."
      ],
      "metadata": {
        "id": "34hhnAZhhO-e"
      }
    },
    {
      "cell_type": "code",
      "source": [
        "X_test = X[num_of_train:] # 전체 데이터 중에서 20%만큼 뒤의 데이터 저장\n",
        "y_test = y[num_of_train:] # 전체 데이터 중에서 20%만큼 뒤의 데이터 저장\n",
        "X_train = X[:num_of_train] # 전체 데이터 중에서 80%만큼 앞의 데이터 저장\n",
        "y_train = y[:num_of_train] # 전체 데이터 중에서 80%만큼 앞의 데이터 저장"
      ],
      "metadata": {
        "id": "Ko-TsOSVhdPA"
      },
      "execution_count": null,
      "outputs": []
    },
    {
      "cell_type": "markdown",
      "source": [
        "데이터를 나눌 때는 num_of_train와 같이 하나의 변수만 사용하면 데이터의 누락을 방지할 수 있다.\n",
        "\n",
        "앞에서 구한 데이터의 개수만큼 훈련 데이터와 테스트 데이터를 분할한다.\n",
        "\n",
        "그리고 테스트 데이터를 출력하여 정상적으로 분리되었는지 확인한다."
      ],
      "metadata": {
        "id": "kgFpmuF-he39"
      }
    },
    {
      "cell_type": "code",
      "source": [
        "print('X 테스트 데이터 :')\n",
        "print(X_test)\n",
        "print('y 테스트 데이터 :')\n",
        "print(list(y_test))\n",
        "\n",
        "# X 테스트 데이터 :\n",
        "# [[18 19]\n",
        "#  [20 21]\n",
        "#  [22 23]]\n",
        "# y 테스트 데이터 :\n",
        "# [9, 10, 11]\n"
      ],
      "metadata": {
        "id": "9VOxl86ChkGp"
      },
      "execution_count": null,
      "outputs": []
    },
    {
      "cell_type": "markdown",
      "source": [
        "각 길이가 3인 것을 확인했습니다.\n",
        "\n",
        "train_test_split()과 다른 점은 데이터가 섞이지 않은 채 어느 지점에서 데이터를 앞과 뒤로 분리했다는 점입니다.\n",
        "\n",
        "만약, 수동으로 분리하게 된다면 데이터를 분리하기 전에 수동으로 데이터를 섞는 과정이 필요할 수 있습니다."
      ],
      "metadata": {
        "id": "4wZPAGqbhngD"
      }
    }
  ]
}